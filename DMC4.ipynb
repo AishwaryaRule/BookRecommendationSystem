{
  "nbformat": 4,
  "nbformat_minor": 0,
  "metadata": {
    "colab": {
      "provenance": []
    },
    "kernelspec": {
      "name": "python3",
      "display_name": "Python 3"
    },
    "language_info": {
      "name": "python"
    }
  },
  "cells": [
    {
      "cell_type": "code",
      "metadata": {
        "colab": {
          "base_uri": "https://localhost:8080/"
        },
        "id": "rQI7KPebLmhv",
        "outputId": "c67074c7-1410-4617-a193-11273694c209"
      },
      "source": [
        "from google.colab import drive\n",
        "drive.mount('/content/drive')"
      ],
      "execution_count": null,
      "outputs": [
        {
          "output_type": "stream",
          "text": [
            "Mounted at /content/drive\n"
          ],
          "name": "stdout"
        }
      ]
    },
    {
      "cell_type": "code",
      "metadata": {
        "id": "4OZ6Odm4MeBl"
      },
      "source": [
        "import pandas as pd\n",
        "import numpy as np"
      ],
      "execution_count": null,
      "outputs": []
    },
    {
      "cell_type": "code",
      "metadata": {
        "id": "mZ1AcewsM3oV"
      },
      "source": [
        "item = pd.read_csv('/content/drive/MyDrive/DMC_2020/DMC_2020/items.csv',sep = '|')\n",
        "tr = pd.read_csv('/content/drive/MyDrive/DMC_2020/DMC_2020/transactions.csv',sep = '|')\n",
        "tr.columns = ['sessionID', 'itemID', 'click', 'basket', 'order']\n",
        "eval = pd.read_csv('/content/drive/MyDrive/DMC_2020/DMC_2020/evaluation.csv',sep = '|')\n",
        "eval.columns = ['itemID']"
      ],
      "execution_count": null,
      "outputs": []
    },
    {
      "cell_type": "code",
      "metadata": {
        "colab": {
          "base_uri": "https://localhost:8080/",
          "height": 860
        },
        "id": "ezgp4KElM5w5",
        "outputId": "89ef738b-68c4-4b61-f388-d8504ec7cf07"
      },
      "source": [
        "item"
      ],
      "execution_count": null,
      "outputs": [
        {
          "output_type": "execute_result",
          "data": {
            "text/html": [
              "<div>\n",
              "<style scoped>\n",
              "    .dataframe tbody tr th:only-of-type {\n",
              "        vertical-align: middle;\n",
              "    }\n",
              "\n",
              "    .dataframe tbody tr th {\n",
              "        vertical-align: top;\n",
              "    }\n",
              "\n",
              "    .dataframe thead th {\n",
              "        text-align: right;\n",
              "    }\n",
              "</style>\n",
              "<table border=\"1\" class=\"dataframe\">\n",
              "  <thead>\n",
              "    <tr style=\"text-align: right;\">\n",
              "      <th></th>\n",
              "      <th>itemID</th>\n",
              "      <th>title</th>\n",
              "      <th>author</th>\n",
              "      <th>publisher</th>\n",
              "      <th>main topic</th>\n",
              "      <th>subtopics</th>\n",
              "    </tr>\n",
              "  </thead>\n",
              "  <tbody>\n",
              "    <tr>\n",
              "      <th>0</th>\n",
              "      <td>21310</td>\n",
              "      <td>Princess Poppy: The Big Mix Up</td>\n",
              "      <td>Janey Louise Jones</td>\n",
              "      <td>Penguin Random House Children's UK</td>\n",
              "      <td>YFB</td>\n",
              "      <td>[5AH]</td>\n",
              "    </tr>\n",
              "    <tr>\n",
              "      <th>1</th>\n",
              "      <td>73018</td>\n",
              "      <td>Einfach zeichnen! Step by Step</td>\n",
              "      <td>Wiebke Krabbe</td>\n",
              "      <td>Schwager und Steinlein</td>\n",
              "      <td>AGZ</td>\n",
              "      <td>[5AJ,AGZ,WFA,YBG,YBL,YNA,YPA]</td>\n",
              "    </tr>\n",
              "    <tr>\n",
              "      <th>2</th>\n",
              "      <td>19194</td>\n",
              "      <td>Red Queen 1</td>\n",
              "      <td>Victoria Aveyard</td>\n",
              "      <td>Orion Publishing Group</td>\n",
              "      <td>YFH</td>\n",
              "      <td>[5AP,FBA]</td>\n",
              "    </tr>\n",
              "    <tr>\n",
              "      <th>3</th>\n",
              "      <td>40250</td>\n",
              "      <td>Meine Kindergarten-Freunde (Pirat)</td>\n",
              "      <td>NaN</td>\n",
              "      <td>Ars Edition GmbH</td>\n",
              "      <td>YB</td>\n",
              "      <td>[5AC,5AD,YBG,YBL,YF]</td>\n",
              "    </tr>\n",
              "    <tr>\n",
              "      <th>4</th>\n",
              "      <td>46107</td>\n",
              "      <td>Mein großes Schablonen-Buch - Wilde Tiere</td>\n",
              "      <td>Elizabeth Golding</td>\n",
              "      <td>Edition Michael Fischer</td>\n",
              "      <td>WFTM</td>\n",
              "      <td>[WD,WFTM,YBG,YBL,YBLD,YBLN1]</td>\n",
              "    </tr>\n",
              "    <tr>\n",
              "      <th>...</th>\n",
              "      <td>...</td>\n",
              "      <td>...</td>\n",
              "      <td>...</td>\n",
              "      <td>...</td>\n",
              "      <td>...</td>\n",
              "      <td>...</td>\n",
              "    </tr>\n",
              "    <tr>\n",
              "      <th>78025</th>\n",
              "      <td>37678</td>\n",
              "      <td>Timeless Fairy Tales</td>\n",
              "      <td>Brothers Grimm, Marie-Catherine Baroness D'Aulnoy</td>\n",
              "      <td>MEDIAMORPHOSIS</td>\n",
              "      <td>YFA</td>\n",
              "      <td>[YFJ]</td>\n",
              "    </tr>\n",
              "    <tr>\n",
              "      <th>78026</th>\n",
              "      <td>68688</td>\n",
              "      <td>Demon Games</td>\n",
              "      <td>A. Witt Timothy a. Witt</td>\n",
              "      <td>iUniverse</td>\n",
              "      <td>FMB</td>\n",
              "      <td>[]</td>\n",
              "    </tr>\n",
              "    <tr>\n",
              "      <th>78027</th>\n",
              "      <td>57291</td>\n",
              "      <td>Lori and the Lion's Den</td>\n",
              "      <td>A. M. Glass</td>\n",
              "      <td>Xlibris</td>\n",
              "      <td>YFU</td>\n",
              "      <td>[]</td>\n",
              "    </tr>\n",
              "    <tr>\n",
              "      <th>78028</th>\n",
              "      <td>78130</td>\n",
              "      <td>The Everywhere Armchair</td>\n",
              "      <td>Ersila Bee</td>\n",
              "      <td>ELOQUENT BOOKS</td>\n",
              "      <td>YFC</td>\n",
              "      <td>[YFG,YFH]</td>\n",
              "    </tr>\n",
              "    <tr>\n",
              "      <th>78029</th>\n",
              "      <td>68789</td>\n",
              "      <td>The Light Voyager</td>\n",
              "      <td>Orlando Mardi Orlando</td>\n",
              "      <td>Trafford Publishing</td>\n",
              "      <td>FL</td>\n",
              "      <td>[]</td>\n",
              "    </tr>\n",
              "  </tbody>\n",
              "</table>\n",
              "<p>78030 rows × 6 columns</p>\n",
              "</div>"
            ],
            "text/plain": [
              "       itemID  ...                      subtopics\n",
              "0       21310  ...                          [5AH]\n",
              "1       73018  ...  [5AJ,AGZ,WFA,YBG,YBL,YNA,YPA]\n",
              "2       19194  ...                      [5AP,FBA]\n",
              "3       40250  ...           [5AC,5AD,YBG,YBL,YF]\n",
              "4       46107  ...   [WD,WFTM,YBG,YBL,YBLD,YBLN1]\n",
              "...       ...  ...                            ...\n",
              "78025   37678  ...                          [YFJ]\n",
              "78026   68688  ...                             []\n",
              "78027   57291  ...                             []\n",
              "78028   78130  ...                      [YFG,YFH]\n",
              "78029   68789  ...                             []\n",
              "\n",
              "[78030 rows x 6 columns]"
            ]
          },
          "metadata": {
            "tags": []
          },
          "execution_count": 4
        }
      ]
    },
    {
      "cell_type": "code",
      "metadata": {
        "colab": {
          "base_uri": "https://localhost:8080/",
          "height": 424
        },
        "id": "hjar2JduM7Ql",
        "outputId": "a280fef8-01f5-4dc9-b931-45663d2de1fb"
      },
      "source": [
        "tr"
      ],
      "execution_count": null,
      "outputs": [
        {
          "output_type": "execute_result",
          "data": {
            "text/html": [
              "<div>\n",
              "<style scoped>\n",
              "    .dataframe tbody tr th:only-of-type {\n",
              "        vertical-align: middle;\n",
              "    }\n",
              "\n",
              "    .dataframe tbody tr th {\n",
              "        vertical-align: top;\n",
              "    }\n",
              "\n",
              "    .dataframe thead th {\n",
              "        text-align: right;\n",
              "    }\n",
              "</style>\n",
              "<table border=\"1\" class=\"dataframe\">\n",
              "  <thead>\n",
              "    <tr style=\"text-align: right;\">\n",
              "      <th></th>\n",
              "      <th>sessionID</th>\n",
              "      <th>itemID</th>\n",
              "      <th>click</th>\n",
              "      <th>basket</th>\n",
              "      <th>order</th>\n",
              "    </tr>\n",
              "  </thead>\n",
              "  <tbody>\n",
              "    <tr>\n",
              "      <th>0</th>\n",
              "      <td>0</td>\n",
              "      <td>21310</td>\n",
              "      <td>1</td>\n",
              "      <td>0</td>\n",
              "      <td>0</td>\n",
              "    </tr>\n",
              "    <tr>\n",
              "      <th>1</th>\n",
              "      <td>1</td>\n",
              "      <td>73018</td>\n",
              "      <td>1</td>\n",
              "      <td>0</td>\n",
              "      <td>0</td>\n",
              "    </tr>\n",
              "    <tr>\n",
              "      <th>2</th>\n",
              "      <td>2</td>\n",
              "      <td>19194</td>\n",
              "      <td>1</td>\n",
              "      <td>0</td>\n",
              "      <td>0</td>\n",
              "    </tr>\n",
              "    <tr>\n",
              "      <th>3</th>\n",
              "      <td>3</td>\n",
              "      <td>40250</td>\n",
              "      <td>1</td>\n",
              "      <td>0</td>\n",
              "      <td>0</td>\n",
              "    </tr>\n",
              "    <tr>\n",
              "      <th>4</th>\n",
              "      <td>4</td>\n",
              "      <td>46107</td>\n",
              "      <td>1</td>\n",
              "      <td>0</td>\n",
              "      <td>0</td>\n",
              "    </tr>\n",
              "    <tr>\n",
              "      <th>...</th>\n",
              "      <td>...</td>\n",
              "      <td>...</td>\n",
              "      <td>...</td>\n",
              "      <td>...</td>\n",
              "      <td>...</td>\n",
              "    </tr>\n",
              "    <tr>\n",
              "      <th>365138</th>\n",
              "      <td>279351</td>\n",
              "      <td>70183</td>\n",
              "      <td>1</td>\n",
              "      <td>0</td>\n",
              "      <td>0</td>\n",
              "    </tr>\n",
              "    <tr>\n",
              "      <th>365139</th>\n",
              "      <td>279352</td>\n",
              "      <td>39716</td>\n",
              "      <td>1</td>\n",
              "      <td>0</td>\n",
              "      <td>0</td>\n",
              "    </tr>\n",
              "    <tr>\n",
              "      <th>365140</th>\n",
              "      <td>279353</td>\n",
              "      <td>35260</td>\n",
              "      <td>1</td>\n",
              "      <td>0</td>\n",
              "      <td>0</td>\n",
              "    </tr>\n",
              "    <tr>\n",
              "      <th>365141</th>\n",
              "      <td>279353</td>\n",
              "      <td>18805</td>\n",
              "      <td>4</td>\n",
              "      <td>0</td>\n",
              "      <td>0</td>\n",
              "    </tr>\n",
              "    <tr>\n",
              "      <th>365142</th>\n",
              "      <td>279354</td>\n",
              "      <td>3083</td>\n",
              "      <td>1</td>\n",
              "      <td>0</td>\n",
              "      <td>0</td>\n",
              "    </tr>\n",
              "  </tbody>\n",
              "</table>\n",
              "<p>365143 rows × 5 columns</p>\n",
              "</div>"
            ],
            "text/plain": [
              "        sessionID  itemID  click  basket  order\n",
              "0               0   21310      1       0      0\n",
              "1               1   73018      1       0      0\n",
              "2               2   19194      1       0      0\n",
              "3               3   40250      1       0      0\n",
              "4               4   46107      1       0      0\n",
              "...           ...     ...    ...     ...    ...\n",
              "365138     279351   70183      1       0      0\n",
              "365139     279352   39716      1       0      0\n",
              "365140     279353   35260      1       0      0\n",
              "365141     279353   18805      4       0      0\n",
              "365142     279354    3083      1       0      0\n",
              "\n",
              "[365143 rows x 5 columns]"
            ]
          },
          "metadata": {
            "tags": []
          },
          "execution_count": 5
        }
      ]
    },
    {
      "cell_type": "code",
      "metadata": {
        "colab": {
          "base_uri": "https://localhost:8080/",
          "height": 424
        },
        "id": "-0foSzYsM8S2",
        "outputId": "9c57e412-4dd2-404a-87aa-3f0ae65cfb54"
      },
      "source": [
        "eval"
      ],
      "execution_count": null,
      "outputs": [
        {
          "output_type": "execute_result",
          "data": {
            "text/html": [
              "<div>\n",
              "<style scoped>\n",
              "    .dataframe tbody tr th:only-of-type {\n",
              "        vertical-align: middle;\n",
              "    }\n",
              "\n",
              "    .dataframe tbody tr th {\n",
              "        vertical-align: top;\n",
              "    }\n",
              "\n",
              "    .dataframe thead th {\n",
              "        text-align: right;\n",
              "    }\n",
              "</style>\n",
              "<table border=\"1\" class=\"dataframe\">\n",
              "  <thead>\n",
              "    <tr style=\"text-align: right;\">\n",
              "      <th></th>\n",
              "      <th>itemID</th>\n",
              "    </tr>\n",
              "  </thead>\n",
              "  <tbody>\n",
              "    <tr>\n",
              "      <th>0</th>\n",
              "      <td>12</td>\n",
              "    </tr>\n",
              "    <tr>\n",
              "      <th>1</th>\n",
              "      <td>45274</td>\n",
              "    </tr>\n",
              "    <tr>\n",
              "      <th>2</th>\n",
              "      <td>10104</td>\n",
              "    </tr>\n",
              "    <tr>\n",
              "      <th>3</th>\n",
              "      <td>41371</td>\n",
              "    </tr>\n",
              "    <tr>\n",
              "      <th>4</th>\n",
              "      <td>14015</td>\n",
              "    </tr>\n",
              "    <tr>\n",
              "      <th>...</th>\n",
              "      <td>...</td>\n",
              "    </tr>\n",
              "    <tr>\n",
              "      <th>995</th>\n",
              "      <td>78384</td>\n",
              "    </tr>\n",
              "    <tr>\n",
              "      <th>996</th>\n",
              "      <td>68157</td>\n",
              "    </tr>\n",
              "    <tr>\n",
              "      <th>997</th>\n",
              "      <td>44964</td>\n",
              "    </tr>\n",
              "    <tr>\n",
              "      <th>998</th>\n",
              "      <td>12971</td>\n",
              "    </tr>\n",
              "    <tr>\n",
              "      <th>999</th>\n",
              "      <td>41078</td>\n",
              "    </tr>\n",
              "  </tbody>\n",
              "</table>\n",
              "<p>1000 rows × 1 columns</p>\n",
              "</div>"
            ],
            "text/plain": [
              "     itemID\n",
              "0        12\n",
              "1     45274\n",
              "2     10104\n",
              "3     41371\n",
              "4     14015\n",
              "..      ...\n",
              "995   78384\n",
              "996   68157\n",
              "997   44964\n",
              "998   12971\n",
              "999   41078\n",
              "\n",
              "[1000 rows x 1 columns]"
            ]
          },
          "metadata": {
            "tags": []
          },
          "execution_count": 6
        }
      ]
    },
    {
      "cell_type": "code",
      "metadata": {
        "colab": {
          "base_uri": "https://localhost:8080/",
          "height": 424
        },
        "id": "cgUX3d6LM9Fg",
        "outputId": "46b396ef-2794-4685-ee32-2733bbde2e0a"
      },
      "source": [
        "new = pd.merge(eval, tr, on='itemID', how = 'left')\n",
        "new"
      ],
      "execution_count": null,
      "outputs": [
        {
          "output_type": "execute_result",
          "data": {
            "text/html": [
              "<div>\n",
              "<style scoped>\n",
              "    .dataframe tbody tr th:only-of-type {\n",
              "        vertical-align: middle;\n",
              "    }\n",
              "\n",
              "    .dataframe tbody tr th {\n",
              "        vertical-align: top;\n",
              "    }\n",
              "\n",
              "    .dataframe thead th {\n",
              "        text-align: right;\n",
              "    }\n",
              "</style>\n",
              "<table border=\"1\" class=\"dataframe\">\n",
              "  <thead>\n",
              "    <tr style=\"text-align: right;\">\n",
              "      <th></th>\n",
              "      <th>itemID</th>\n",
              "      <th>sessionID</th>\n",
              "      <th>click</th>\n",
              "      <th>basket</th>\n",
              "      <th>order</th>\n",
              "    </tr>\n",
              "  </thead>\n",
              "  <tbody>\n",
              "    <tr>\n",
              "      <th>0</th>\n",
              "      <td>12</td>\n",
              "      <td>NaN</td>\n",
              "      <td>NaN</td>\n",
              "      <td>NaN</td>\n",
              "      <td>NaN</td>\n",
              "    </tr>\n",
              "    <tr>\n",
              "      <th>1</th>\n",
              "      <td>45274</td>\n",
              "      <td>NaN</td>\n",
              "      <td>NaN</td>\n",
              "      <td>NaN</td>\n",
              "      <td>NaN</td>\n",
              "    </tr>\n",
              "    <tr>\n",
              "      <th>2</th>\n",
              "      <td>10104</td>\n",
              "      <td>NaN</td>\n",
              "      <td>NaN</td>\n",
              "      <td>NaN</td>\n",
              "      <td>NaN</td>\n",
              "    </tr>\n",
              "    <tr>\n",
              "      <th>3</th>\n",
              "      <td>41371</td>\n",
              "      <td>138327.0</td>\n",
              "      <td>1.0</td>\n",
              "      <td>0.0</td>\n",
              "      <td>0.0</td>\n",
              "    </tr>\n",
              "    <tr>\n",
              "      <th>4</th>\n",
              "      <td>41371</td>\n",
              "      <td>214045.0</td>\n",
              "      <td>1.0</td>\n",
              "      <td>1.0</td>\n",
              "      <td>0.0</td>\n",
              "    </tr>\n",
              "    <tr>\n",
              "      <th>...</th>\n",
              "      <td>...</td>\n",
              "      <td>...</td>\n",
              "      <td>...</td>\n",
              "      <td>...</td>\n",
              "      <td>...</td>\n",
              "    </tr>\n",
              "    <tr>\n",
              "      <th>8202</th>\n",
              "      <td>68157</td>\n",
              "      <td>270888.0</td>\n",
              "      <td>1.0</td>\n",
              "      <td>0.0</td>\n",
              "      <td>0.0</td>\n",
              "    </tr>\n",
              "    <tr>\n",
              "      <th>8203</th>\n",
              "      <td>44964</td>\n",
              "      <td>36017.0</td>\n",
              "      <td>1.0</td>\n",
              "      <td>0.0</td>\n",
              "      <td>0.0</td>\n",
              "    </tr>\n",
              "    <tr>\n",
              "      <th>8204</th>\n",
              "      <td>12971</td>\n",
              "      <td>124023.0</td>\n",
              "      <td>1.0</td>\n",
              "      <td>0.0</td>\n",
              "      <td>0.0</td>\n",
              "    </tr>\n",
              "    <tr>\n",
              "      <th>8205</th>\n",
              "      <td>12971</td>\n",
              "      <td>226727.0</td>\n",
              "      <td>1.0</td>\n",
              "      <td>0.0</td>\n",
              "      <td>0.0</td>\n",
              "    </tr>\n",
              "    <tr>\n",
              "      <th>8206</th>\n",
              "      <td>41078</td>\n",
              "      <td>NaN</td>\n",
              "      <td>NaN</td>\n",
              "      <td>NaN</td>\n",
              "      <td>NaN</td>\n",
              "    </tr>\n",
              "  </tbody>\n",
              "</table>\n",
              "<p>8207 rows × 5 columns</p>\n",
              "</div>"
            ],
            "text/plain": [
              "      itemID  sessionID  click  basket  order\n",
              "0         12        NaN    NaN     NaN    NaN\n",
              "1      45274        NaN    NaN     NaN    NaN\n",
              "2      10104        NaN    NaN     NaN    NaN\n",
              "3      41371   138327.0    1.0     0.0    0.0\n",
              "4      41371   214045.0    1.0     1.0    0.0\n",
              "...      ...        ...    ...     ...    ...\n",
              "8202   68157   270888.0    1.0     0.0    0.0\n",
              "8203   44964    36017.0    1.0     0.0    0.0\n",
              "8204   12971   124023.0    1.0     0.0    0.0\n",
              "8205   12971   226727.0    1.0     0.0    0.0\n",
              "8206   41078        NaN    NaN     NaN    NaN\n",
              "\n",
              "[8207 rows x 5 columns]"
            ]
          },
          "metadata": {
            "tags": []
          },
          "execution_count": 7
        }
      ]
    },
    {
      "cell_type": "code",
      "metadata": {
        "colab": {
          "base_uri": "https://localhost:8080/",
          "height": 444
        },
        "id": "DJBLOZGfNEG6",
        "outputId": "1e7bfb77-dcb7-488d-ac8d-86b6680d6d20"
      },
      "source": [
        "new1 = pd.merge(new, tr, on='sessionID', how = 'left')\n",
        "new1"
      ],
      "execution_count": null,
      "outputs": [
        {
          "output_type": "execute_result",
          "data": {
            "text/html": [
              "<div>\n",
              "<style scoped>\n",
              "    .dataframe tbody tr th:only-of-type {\n",
              "        vertical-align: middle;\n",
              "    }\n",
              "\n",
              "    .dataframe tbody tr th {\n",
              "        vertical-align: top;\n",
              "    }\n",
              "\n",
              "    .dataframe thead th {\n",
              "        text-align: right;\n",
              "    }\n",
              "</style>\n",
              "<table border=\"1\" class=\"dataframe\">\n",
              "  <thead>\n",
              "    <tr style=\"text-align: right;\">\n",
              "      <th></th>\n",
              "      <th>itemID_x</th>\n",
              "      <th>sessionID</th>\n",
              "      <th>click_x</th>\n",
              "      <th>basket_x</th>\n",
              "      <th>order_x</th>\n",
              "      <th>itemID_y</th>\n",
              "      <th>click_y</th>\n",
              "      <th>basket_y</th>\n",
              "      <th>order_y</th>\n",
              "    </tr>\n",
              "  </thead>\n",
              "  <tbody>\n",
              "    <tr>\n",
              "      <th>0</th>\n",
              "      <td>12</td>\n",
              "      <td>NaN</td>\n",
              "      <td>NaN</td>\n",
              "      <td>NaN</td>\n",
              "      <td>NaN</td>\n",
              "      <td>NaN</td>\n",
              "      <td>NaN</td>\n",
              "      <td>NaN</td>\n",
              "      <td>NaN</td>\n",
              "    </tr>\n",
              "    <tr>\n",
              "      <th>1</th>\n",
              "      <td>45274</td>\n",
              "      <td>NaN</td>\n",
              "      <td>NaN</td>\n",
              "      <td>NaN</td>\n",
              "      <td>NaN</td>\n",
              "      <td>NaN</td>\n",
              "      <td>NaN</td>\n",
              "      <td>NaN</td>\n",
              "      <td>NaN</td>\n",
              "    </tr>\n",
              "    <tr>\n",
              "      <th>2</th>\n",
              "      <td>10104</td>\n",
              "      <td>NaN</td>\n",
              "      <td>NaN</td>\n",
              "      <td>NaN</td>\n",
              "      <td>NaN</td>\n",
              "      <td>NaN</td>\n",
              "      <td>NaN</td>\n",
              "      <td>NaN</td>\n",
              "      <td>NaN</td>\n",
              "    </tr>\n",
              "    <tr>\n",
              "      <th>3</th>\n",
              "      <td>41371</td>\n",
              "      <td>138327.0</td>\n",
              "      <td>1.0</td>\n",
              "      <td>0.0</td>\n",
              "      <td>0.0</td>\n",
              "      <td>41371.0</td>\n",
              "      <td>1.0</td>\n",
              "      <td>0.0</td>\n",
              "      <td>0.0</td>\n",
              "    </tr>\n",
              "    <tr>\n",
              "      <th>4</th>\n",
              "      <td>41371</td>\n",
              "      <td>214045.0</td>\n",
              "      <td>1.0</td>\n",
              "      <td>1.0</td>\n",
              "      <td>0.0</td>\n",
              "      <td>41371.0</td>\n",
              "      <td>1.0</td>\n",
              "      <td>1.0</td>\n",
              "      <td>0.0</td>\n",
              "    </tr>\n",
              "    <tr>\n",
              "      <th>...</th>\n",
              "      <td>...</td>\n",
              "      <td>...</td>\n",
              "      <td>...</td>\n",
              "      <td>...</td>\n",
              "      <td>...</td>\n",
              "      <td>...</td>\n",
              "      <td>...</td>\n",
              "      <td>...</td>\n",
              "      <td>...</td>\n",
              "    </tr>\n",
              "    <tr>\n",
              "      <th>25602</th>\n",
              "      <td>68157</td>\n",
              "      <td>270888.0</td>\n",
              "      <td>1.0</td>\n",
              "      <td>0.0</td>\n",
              "      <td>0.0</td>\n",
              "      <td>68157.0</td>\n",
              "      <td>1.0</td>\n",
              "      <td>0.0</td>\n",
              "      <td>0.0</td>\n",
              "    </tr>\n",
              "    <tr>\n",
              "      <th>25603</th>\n",
              "      <td>44964</td>\n",
              "      <td>36017.0</td>\n",
              "      <td>1.0</td>\n",
              "      <td>0.0</td>\n",
              "      <td>0.0</td>\n",
              "      <td>44964.0</td>\n",
              "      <td>1.0</td>\n",
              "      <td>0.0</td>\n",
              "      <td>0.0</td>\n",
              "    </tr>\n",
              "    <tr>\n",
              "      <th>25604</th>\n",
              "      <td>12971</td>\n",
              "      <td>124023.0</td>\n",
              "      <td>1.0</td>\n",
              "      <td>0.0</td>\n",
              "      <td>0.0</td>\n",
              "      <td>12971.0</td>\n",
              "      <td>1.0</td>\n",
              "      <td>0.0</td>\n",
              "      <td>0.0</td>\n",
              "    </tr>\n",
              "    <tr>\n",
              "      <th>25605</th>\n",
              "      <td>12971</td>\n",
              "      <td>226727.0</td>\n",
              "      <td>1.0</td>\n",
              "      <td>0.0</td>\n",
              "      <td>0.0</td>\n",
              "      <td>12971.0</td>\n",
              "      <td>1.0</td>\n",
              "      <td>0.0</td>\n",
              "      <td>0.0</td>\n",
              "    </tr>\n",
              "    <tr>\n",
              "      <th>25606</th>\n",
              "      <td>41078</td>\n",
              "      <td>NaN</td>\n",
              "      <td>NaN</td>\n",
              "      <td>NaN</td>\n",
              "      <td>NaN</td>\n",
              "      <td>NaN</td>\n",
              "      <td>NaN</td>\n",
              "      <td>NaN</td>\n",
              "      <td>NaN</td>\n",
              "    </tr>\n",
              "  </tbody>\n",
              "</table>\n",
              "<p>25607 rows × 9 columns</p>\n",
              "</div>"
            ],
            "text/plain": [
              "       itemID_x  sessionID  click_x  ...  click_y  basket_y  order_y\n",
              "0            12        NaN      NaN  ...      NaN       NaN      NaN\n",
              "1         45274        NaN      NaN  ...      NaN       NaN      NaN\n",
              "2         10104        NaN      NaN  ...      NaN       NaN      NaN\n",
              "3         41371   138327.0      1.0  ...      1.0       0.0      0.0\n",
              "4         41371   214045.0      1.0  ...      1.0       1.0      0.0\n",
              "...         ...        ...      ...  ...      ...       ...      ...\n",
              "25602     68157   270888.0      1.0  ...      1.0       0.0      0.0\n",
              "25603     44964    36017.0      1.0  ...      1.0       0.0      0.0\n",
              "25604     12971   124023.0      1.0  ...      1.0       0.0      0.0\n",
              "25605     12971   226727.0      1.0  ...      1.0       0.0      0.0\n",
              "25606     41078        NaN      NaN  ...      NaN       NaN      NaN\n",
              "\n",
              "[25607 rows x 9 columns]"
            ]
          },
          "metadata": {
            "tags": []
          },
          "execution_count": 8
        }
      ]
    },
    {
      "cell_type": "code",
      "metadata": {
        "colab": {
          "base_uri": "https://localhost:8080/",
          "height": 424
        },
        "id": "ZQNP3GoINS2S",
        "outputId": "47c27883-2e83-4f31-f095-5909c34299be"
      },
      "source": [
        "new1.drop(['itemID_y', 'click_y', 'basket_y', 'order_y'], axis='columns' ,inplace = True)\n",
        "new1"
      ],
      "execution_count": null,
      "outputs": [
        {
          "output_type": "execute_result",
          "data": {
            "text/html": [
              "<div>\n",
              "<style scoped>\n",
              "    .dataframe tbody tr th:only-of-type {\n",
              "        vertical-align: middle;\n",
              "    }\n",
              "\n",
              "    .dataframe tbody tr th {\n",
              "        vertical-align: top;\n",
              "    }\n",
              "\n",
              "    .dataframe thead th {\n",
              "        text-align: right;\n",
              "    }\n",
              "</style>\n",
              "<table border=\"1\" class=\"dataframe\">\n",
              "  <thead>\n",
              "    <tr style=\"text-align: right;\">\n",
              "      <th></th>\n",
              "      <th>itemID_x</th>\n",
              "      <th>sessionID</th>\n",
              "      <th>click_x</th>\n",
              "      <th>basket_x</th>\n",
              "      <th>order_x</th>\n",
              "    </tr>\n",
              "  </thead>\n",
              "  <tbody>\n",
              "    <tr>\n",
              "      <th>0</th>\n",
              "      <td>12</td>\n",
              "      <td>NaN</td>\n",
              "      <td>NaN</td>\n",
              "      <td>NaN</td>\n",
              "      <td>NaN</td>\n",
              "    </tr>\n",
              "    <tr>\n",
              "      <th>1</th>\n",
              "      <td>45274</td>\n",
              "      <td>NaN</td>\n",
              "      <td>NaN</td>\n",
              "      <td>NaN</td>\n",
              "      <td>NaN</td>\n",
              "    </tr>\n",
              "    <tr>\n",
              "      <th>2</th>\n",
              "      <td>10104</td>\n",
              "      <td>NaN</td>\n",
              "      <td>NaN</td>\n",
              "      <td>NaN</td>\n",
              "      <td>NaN</td>\n",
              "    </tr>\n",
              "    <tr>\n",
              "      <th>3</th>\n",
              "      <td>41371</td>\n",
              "      <td>138327.0</td>\n",
              "      <td>1.0</td>\n",
              "      <td>0.0</td>\n",
              "      <td>0.0</td>\n",
              "    </tr>\n",
              "    <tr>\n",
              "      <th>4</th>\n",
              "      <td>41371</td>\n",
              "      <td>214045.0</td>\n",
              "      <td>1.0</td>\n",
              "      <td>1.0</td>\n",
              "      <td>0.0</td>\n",
              "    </tr>\n",
              "    <tr>\n",
              "      <th>...</th>\n",
              "      <td>...</td>\n",
              "      <td>...</td>\n",
              "      <td>...</td>\n",
              "      <td>...</td>\n",
              "      <td>...</td>\n",
              "    </tr>\n",
              "    <tr>\n",
              "      <th>25602</th>\n",
              "      <td>68157</td>\n",
              "      <td>270888.0</td>\n",
              "      <td>1.0</td>\n",
              "      <td>0.0</td>\n",
              "      <td>0.0</td>\n",
              "    </tr>\n",
              "    <tr>\n",
              "      <th>25603</th>\n",
              "      <td>44964</td>\n",
              "      <td>36017.0</td>\n",
              "      <td>1.0</td>\n",
              "      <td>0.0</td>\n",
              "      <td>0.0</td>\n",
              "    </tr>\n",
              "    <tr>\n",
              "      <th>25604</th>\n",
              "      <td>12971</td>\n",
              "      <td>124023.0</td>\n",
              "      <td>1.0</td>\n",
              "      <td>0.0</td>\n",
              "      <td>0.0</td>\n",
              "    </tr>\n",
              "    <tr>\n",
              "      <th>25605</th>\n",
              "      <td>12971</td>\n",
              "      <td>226727.0</td>\n",
              "      <td>1.0</td>\n",
              "      <td>0.0</td>\n",
              "      <td>0.0</td>\n",
              "    </tr>\n",
              "    <tr>\n",
              "      <th>25606</th>\n",
              "      <td>41078</td>\n",
              "      <td>NaN</td>\n",
              "      <td>NaN</td>\n",
              "      <td>NaN</td>\n",
              "      <td>NaN</td>\n",
              "    </tr>\n",
              "  </tbody>\n",
              "</table>\n",
              "<p>25607 rows × 5 columns</p>\n",
              "</div>"
            ],
            "text/plain": [
              "       itemID_x  sessionID  click_x  basket_x  order_x\n",
              "0            12        NaN      NaN       NaN      NaN\n",
              "1         45274        NaN      NaN       NaN      NaN\n",
              "2         10104        NaN      NaN       NaN      NaN\n",
              "3         41371   138327.0      1.0       0.0      0.0\n",
              "4         41371   214045.0      1.0       1.0      0.0\n",
              "...         ...        ...      ...       ...      ...\n",
              "25602     68157   270888.0      1.0       0.0      0.0\n",
              "25603     44964    36017.0      1.0       0.0      0.0\n",
              "25604     12971   124023.0      1.0       0.0      0.0\n",
              "25605     12971   226727.0      1.0       0.0      0.0\n",
              "25606     41078        NaN      NaN       NaN      NaN\n",
              "\n",
              "[25607 rows x 5 columns]"
            ]
          },
          "metadata": {
            "tags": []
          },
          "execution_count": 9
        }
      ]
    },
    {
      "cell_type": "code",
      "metadata": {
        "colab": {
          "base_uri": "https://localhost:8080/",
          "height": 424
        },
        "id": "6nSfSrZ8NWxj",
        "outputId": "b01123a2-eb6c-493a-ecc5-f4d5f283fefb"
      },
      "source": [
        "d = new1.rename(columns={'itemID_x':'itemID', 'click_x': 'click', 'basket_x': 'basket', 'order_x': 'order'}, inplace = False)\n",
        "d"
      ],
      "execution_count": null,
      "outputs": [
        {
          "output_type": "execute_result",
          "data": {
            "text/html": [
              "<div>\n",
              "<style scoped>\n",
              "    .dataframe tbody tr th:only-of-type {\n",
              "        vertical-align: middle;\n",
              "    }\n",
              "\n",
              "    .dataframe tbody tr th {\n",
              "        vertical-align: top;\n",
              "    }\n",
              "\n",
              "    .dataframe thead th {\n",
              "        text-align: right;\n",
              "    }\n",
              "</style>\n",
              "<table border=\"1\" class=\"dataframe\">\n",
              "  <thead>\n",
              "    <tr style=\"text-align: right;\">\n",
              "      <th></th>\n",
              "      <th>itemID</th>\n",
              "      <th>sessionID</th>\n",
              "      <th>click</th>\n",
              "      <th>basket</th>\n",
              "      <th>order</th>\n",
              "    </tr>\n",
              "  </thead>\n",
              "  <tbody>\n",
              "    <tr>\n",
              "      <th>0</th>\n",
              "      <td>12</td>\n",
              "      <td>NaN</td>\n",
              "      <td>NaN</td>\n",
              "      <td>NaN</td>\n",
              "      <td>NaN</td>\n",
              "    </tr>\n",
              "    <tr>\n",
              "      <th>1</th>\n",
              "      <td>45274</td>\n",
              "      <td>NaN</td>\n",
              "      <td>NaN</td>\n",
              "      <td>NaN</td>\n",
              "      <td>NaN</td>\n",
              "    </tr>\n",
              "    <tr>\n",
              "      <th>2</th>\n",
              "      <td>10104</td>\n",
              "      <td>NaN</td>\n",
              "      <td>NaN</td>\n",
              "      <td>NaN</td>\n",
              "      <td>NaN</td>\n",
              "    </tr>\n",
              "    <tr>\n",
              "      <th>3</th>\n",
              "      <td>41371</td>\n",
              "      <td>138327.0</td>\n",
              "      <td>1.0</td>\n",
              "      <td>0.0</td>\n",
              "      <td>0.0</td>\n",
              "    </tr>\n",
              "    <tr>\n",
              "      <th>4</th>\n",
              "      <td>41371</td>\n",
              "      <td>214045.0</td>\n",
              "      <td>1.0</td>\n",
              "      <td>1.0</td>\n",
              "      <td>0.0</td>\n",
              "    </tr>\n",
              "    <tr>\n",
              "      <th>...</th>\n",
              "      <td>...</td>\n",
              "      <td>...</td>\n",
              "      <td>...</td>\n",
              "      <td>...</td>\n",
              "      <td>...</td>\n",
              "    </tr>\n",
              "    <tr>\n",
              "      <th>25602</th>\n",
              "      <td>68157</td>\n",
              "      <td>270888.0</td>\n",
              "      <td>1.0</td>\n",
              "      <td>0.0</td>\n",
              "      <td>0.0</td>\n",
              "    </tr>\n",
              "    <tr>\n",
              "      <th>25603</th>\n",
              "      <td>44964</td>\n",
              "      <td>36017.0</td>\n",
              "      <td>1.0</td>\n",
              "      <td>0.0</td>\n",
              "      <td>0.0</td>\n",
              "    </tr>\n",
              "    <tr>\n",
              "      <th>25604</th>\n",
              "      <td>12971</td>\n",
              "      <td>124023.0</td>\n",
              "      <td>1.0</td>\n",
              "      <td>0.0</td>\n",
              "      <td>0.0</td>\n",
              "    </tr>\n",
              "    <tr>\n",
              "      <th>25605</th>\n",
              "      <td>12971</td>\n",
              "      <td>226727.0</td>\n",
              "      <td>1.0</td>\n",
              "      <td>0.0</td>\n",
              "      <td>0.0</td>\n",
              "    </tr>\n",
              "    <tr>\n",
              "      <th>25606</th>\n",
              "      <td>41078</td>\n",
              "      <td>NaN</td>\n",
              "      <td>NaN</td>\n",
              "      <td>NaN</td>\n",
              "      <td>NaN</td>\n",
              "    </tr>\n",
              "  </tbody>\n",
              "</table>\n",
              "<p>25607 rows × 5 columns</p>\n",
              "</div>"
            ],
            "text/plain": [
              "       itemID  sessionID  click  basket  order\n",
              "0          12        NaN    NaN     NaN    NaN\n",
              "1       45274        NaN    NaN     NaN    NaN\n",
              "2       10104        NaN    NaN     NaN    NaN\n",
              "3       41371   138327.0    1.0     0.0    0.0\n",
              "4       41371   214045.0    1.0     1.0    0.0\n",
              "...       ...        ...    ...     ...    ...\n",
              "25602   68157   270888.0    1.0     0.0    0.0\n",
              "25603   44964    36017.0    1.0     0.0    0.0\n",
              "25604   12971   124023.0    1.0     0.0    0.0\n",
              "25605   12971   226727.0    1.0     0.0    0.0\n",
              "25606   41078        NaN    NaN     NaN    NaN\n",
              "\n",
              "[25607 rows x 5 columns]"
            ]
          },
          "metadata": {
            "tags": []
          },
          "execution_count": 10
        }
      ]
    },
    {
      "cell_type": "code",
      "metadata": {
        "id": "2Z0Zz0tANh1y"
      },
      "source": [
        "df = pd.merge(d, item, on = 'itemID', how='left')"
      ],
      "execution_count": null,
      "outputs": []
    },
    {
      "cell_type": "code",
      "metadata": {
        "colab": {
          "base_uri": "https://localhost:8080/",
          "height": 1000
        },
        "id": "q43xQ5Z6Nkwg",
        "outputId": "d9fb9892-d3b9-4d8c-a9cf-623abfecaac7"
      },
      "source": [
        "df.head(10)"
      ],
      "execution_count": null,
      "outputs": [
        {
          "output_type": "execute_result",
          "data": {
            "text/html": [
              "<div>\n",
              "<style scoped>\n",
              "    .dataframe tbody tr th:only-of-type {\n",
              "        vertical-align: middle;\n",
              "    }\n",
              "\n",
              "    .dataframe tbody tr th {\n",
              "        vertical-align: top;\n",
              "    }\n",
              "\n",
              "    .dataframe thead th {\n",
              "        text-align: right;\n",
              "    }\n",
              "</style>\n",
              "<table border=\"1\" class=\"dataframe\">\n",
              "  <thead>\n",
              "    <tr style=\"text-align: right;\">\n",
              "      <th></th>\n",
              "      <th>itemID</th>\n",
              "      <th>sessionID</th>\n",
              "      <th>click</th>\n",
              "      <th>basket</th>\n",
              "      <th>order</th>\n",
              "      <th>title</th>\n",
              "      <th>author</th>\n",
              "      <th>publisher</th>\n",
              "      <th>main topic</th>\n",
              "      <th>subtopics</th>\n",
              "    </tr>\n",
              "  </thead>\n",
              "  <tbody>\n",
              "    <tr>\n",
              "      <th>0</th>\n",
              "      <td>12</td>\n",
              "      <td>NaN</td>\n",
              "      <td>NaN</td>\n",
              "      <td>NaN</td>\n",
              "      <td>NaN</td>\n",
              "      <td>Breathtaking</td>\n",
              "      <td>Reva Ryann Thompson</td>\n",
              "      <td>Xlibris</td>\n",
              "      <td>FM</td>\n",
              "      <td>[]</td>\n",
              "    </tr>\n",
              "    <tr>\n",
              "      <th>1</th>\n",
              "      <td>45274</td>\n",
              "      <td>NaN</td>\n",
              "      <td>NaN</td>\n",
              "      <td>NaN</td>\n",
              "      <td>NaN</td>\n",
              "      <td>The Dead Man in Indian Creek</td>\n",
              "      <td>Mary Downing Hahn</td>\n",
              "      <td>AVON BOOKS</td>\n",
              "      <td>YFCF</td>\n",
              "      <td>[YFZR,YXHB]</td>\n",
              "    </tr>\n",
              "    <tr>\n",
              "      <th>2</th>\n",
              "      <td>10104</td>\n",
              "      <td>NaN</td>\n",
              "      <td>NaN</td>\n",
              "      <td>NaN</td>\n",
              "      <td>NaN</td>\n",
              "      <td>The Humble Seed</td>\n",
              "      <td>Linda Appleby</td>\n",
              "      <td>Linda Appleby</td>\n",
              "      <td>YFB</td>\n",
              "      <td>[YX]</td>\n",
              "    </tr>\n",
              "    <tr>\n",
              "      <th>3</th>\n",
              "      <td>41371</td>\n",
              "      <td>138327.0</td>\n",
              "      <td>1.0</td>\n",
              "      <td>0.0</td>\n",
              "      <td>0.0</td>\n",
              "      <td>Dryadenhain &amp; Dschinnenzauber (Märchenanthologie)</td>\n",
              "      <td>Philipp Busch, Jonathan Driedger, Lena Kalupne...</td>\n",
              "      <td>Ulisses Spiel &amp; Medien</td>\n",
              "      <td>FM</td>\n",
              "      <td>[FMB,WDHW]</td>\n",
              "    </tr>\n",
              "    <tr>\n",
              "      <th>4</th>\n",
              "      <td>41371</td>\n",
              "      <td>214045.0</td>\n",
              "      <td>1.0</td>\n",
              "      <td>1.0</td>\n",
              "      <td>0.0</td>\n",
              "      <td>Dryadenhain &amp; Dschinnenzauber (Märchenanthologie)</td>\n",
              "      <td>Philipp Busch, Jonathan Driedger, Lena Kalupne...</td>\n",
              "      <td>Ulisses Spiel &amp; Medien</td>\n",
              "      <td>FM</td>\n",
              "      <td>[FMB,WDHW]</td>\n",
              "    </tr>\n",
              "    <tr>\n",
              "      <th>5</th>\n",
              "      <td>41371</td>\n",
              "      <td>234864.0</td>\n",
              "      <td>1.0</td>\n",
              "      <td>0.0</td>\n",
              "      <td>0.0</td>\n",
              "      <td>Dryadenhain &amp; Dschinnenzauber (Märchenanthologie)</td>\n",
              "      <td>Philipp Busch, Jonathan Driedger, Lena Kalupne...</td>\n",
              "      <td>Ulisses Spiel &amp; Medien</td>\n",
              "      <td>FM</td>\n",
              "      <td>[FMB,WDHW]</td>\n",
              "    </tr>\n",
              "    <tr>\n",
              "      <th>6</th>\n",
              "      <td>41371</td>\n",
              "      <td>278321.0</td>\n",
              "      <td>1.0</td>\n",
              "      <td>1.0</td>\n",
              "      <td>0.0</td>\n",
              "      <td>Dryadenhain &amp; Dschinnenzauber (Märchenanthologie)</td>\n",
              "      <td>Philipp Busch, Jonathan Driedger, Lena Kalupne...</td>\n",
              "      <td>Ulisses Spiel &amp; Medien</td>\n",
              "      <td>FM</td>\n",
              "      <td>[FMB,WDHW]</td>\n",
              "    </tr>\n",
              "    <tr>\n",
              "      <th>7</th>\n",
              "      <td>41371</td>\n",
              "      <td>278321.0</td>\n",
              "      <td>1.0</td>\n",
              "      <td>1.0</td>\n",
              "      <td>0.0</td>\n",
              "      <td>Dryadenhain &amp; Dschinnenzauber (Märchenanthologie)</td>\n",
              "      <td>Philipp Busch, Jonathan Driedger, Lena Kalupne...</td>\n",
              "      <td>Ulisses Spiel &amp; Medien</td>\n",
              "      <td>FM</td>\n",
              "      <td>[FMB,WDHW]</td>\n",
              "    </tr>\n",
              "    <tr>\n",
              "      <th>8</th>\n",
              "      <td>41371</td>\n",
              "      <td>278321.0</td>\n",
              "      <td>1.0</td>\n",
              "      <td>1.0</td>\n",
              "      <td>0.0</td>\n",
              "      <td>Dryadenhain &amp; Dschinnenzauber (Märchenanthologie)</td>\n",
              "      <td>Philipp Busch, Jonathan Driedger, Lena Kalupne...</td>\n",
              "      <td>Ulisses Spiel &amp; Medien</td>\n",
              "      <td>FM</td>\n",
              "      <td>[FMB,WDHW]</td>\n",
              "    </tr>\n",
              "    <tr>\n",
              "      <th>9</th>\n",
              "      <td>14015</td>\n",
              "      <td>NaN</td>\n",
              "      <td>NaN</td>\n",
              "      <td>NaN</td>\n",
              "      <td>NaN</td>\n",
              "      <td>The Man of Steel: Superman vs. the Moon Bandits</td>\n",
              "      <td>Scott Sonneborn</td>\n",
              "      <td>STONE ARCH BOOKS</td>\n",
              "      <td>YFCF</td>\n",
              "      <td>[XQK]</td>\n",
              "    </tr>\n",
              "  </tbody>\n",
              "</table>\n",
              "</div>"
            ],
            "text/plain": [
              "   itemID  sessionID  click  ...               publisher  main topic    subtopics\n",
              "0      12        NaN    NaN  ...                 Xlibris          FM           []\n",
              "1   45274        NaN    NaN  ...              AVON BOOKS        YFCF  [YFZR,YXHB]\n",
              "2   10104        NaN    NaN  ...           Linda Appleby         YFB         [YX]\n",
              "3   41371   138327.0    1.0  ...  Ulisses Spiel & Medien          FM   [FMB,WDHW]\n",
              "4   41371   214045.0    1.0  ...  Ulisses Spiel & Medien          FM   [FMB,WDHW]\n",
              "5   41371   234864.0    1.0  ...  Ulisses Spiel & Medien          FM   [FMB,WDHW]\n",
              "6   41371   278321.0    1.0  ...  Ulisses Spiel & Medien          FM   [FMB,WDHW]\n",
              "7   41371   278321.0    1.0  ...  Ulisses Spiel & Medien          FM   [FMB,WDHW]\n",
              "8   41371   278321.0    1.0  ...  Ulisses Spiel & Medien          FM   [FMB,WDHW]\n",
              "9   14015        NaN    NaN  ...        STONE ARCH BOOKS        YFCF        [XQK]\n",
              "\n",
              "[10 rows x 10 columns]"
            ]
          },
          "metadata": {
            "tags": []
          },
          "execution_count": 12
        }
      ]
    },
    {
      "cell_type": "markdown",
      "metadata": {
        "id": "PJbz3tPrd6WT"
      },
      "source": [
        "# Content Based"
      ]
    },
    {
      "cell_type": "code",
      "metadata": {
        "id": "omxNjcGkPdSy",
        "colab": {
          "base_uri": "https://localhost:8080/",
          "height": 36
        },
        "outputId": "0a8d5c15-e1a8-43b2-fbe8-960a4d2f67b3"
      },
      "source": [
        "# let's check up the title to determine what to process in the string\n",
        "df['title'][0]"
      ],
      "execution_count": null,
      "outputs": [
        {
          "output_type": "execute_result",
          "data": {
            "application/vnd.google.colaboratory.intrinsic+json": {
              "type": "string"
            },
            "text/plain": [
              "'Breathtaking'"
            ]
          },
          "metadata": {
            "tags": []
          },
          "execution_count": 13
        }
      ]
    },
    {
      "cell_type": "code",
      "metadata": {
        "id": "1noDdhBkQHWo",
        "colab": {
          "base_uri": "https://localhost:8080/"
        },
        "outputId": "c75e76b1-83b0-4368-ada4-71b226b0af0f"
      },
      "source": [
        "df.shape"
      ],
      "execution_count": null,
      "outputs": [
        {
          "output_type": "execute_result",
          "data": {
            "text/plain": [
              "(25607, 10)"
            ]
          },
          "metadata": {
            "tags": []
          },
          "execution_count": 14
        }
      ]
    },
    {
      "cell_type": "code",
      "metadata": {
        "id": "G6gjup8uQQsR",
        "colab": {
          "base_uri": "https://localhost:8080/",
          "height": 36
        },
        "outputId": "f7ef9c1d-c20f-4749-abfc-75b9639f27e4"
      },
      "source": [
        "df['main topic'][0]"
      ],
      "execution_count": null,
      "outputs": [
        {
          "output_type": "execute_result",
          "data": {
            "application/vnd.google.colaboratory.intrinsic+json": {
              "type": "string"
            },
            "text/plain": [
              "'FM'"
            ]
          },
          "metadata": {
            "tags": []
          },
          "execution_count": 15
        }
      ]
    },
    {
      "cell_type": "code",
      "metadata": {
        "id": "ixm6v6V7uijR"
      },
      "source": [
        "df['subtopics'] = df['subtopics'].astype(str).str.replace(r'\\[|\\]|,', '')"
      ],
      "execution_count": null,
      "outputs": []
    },
    {
      "cell_type": "code",
      "metadata": {
        "id": "JP_q28LAQjaR",
        "colab": {
          "base_uri": "https://localhost:8080/",
          "height": 504
        },
        "outputId": "16975088-94df-4018-f2c0-f9dc3c47978a"
      },
      "source": [
        "#I have thought of processing all the strings together. So joined all of them to product details column and dropped the used \n",
        "# columns\n",
        "df['product_details'] = df['basket'].astype(str) + df['main topic'] + df['subtopics']\n",
        "#df.drop(columns = ['title', 'main topic', 'subtopics'],inplace=True)\n",
        "df.head()"
      ],
      "execution_count": null,
      "outputs": [
        {
          "output_type": "execute_result",
          "data": {
            "text/html": [
              "<div>\n",
              "<style scoped>\n",
              "    .dataframe tbody tr th:only-of-type {\n",
              "        vertical-align: middle;\n",
              "    }\n",
              "\n",
              "    .dataframe tbody tr th {\n",
              "        vertical-align: top;\n",
              "    }\n",
              "\n",
              "    .dataframe thead th {\n",
              "        text-align: right;\n",
              "    }\n",
              "</style>\n",
              "<table border=\"1\" class=\"dataframe\">\n",
              "  <thead>\n",
              "    <tr style=\"text-align: right;\">\n",
              "      <th></th>\n",
              "      <th>itemID</th>\n",
              "      <th>sessionID</th>\n",
              "      <th>click</th>\n",
              "      <th>basket</th>\n",
              "      <th>order</th>\n",
              "      <th>title</th>\n",
              "      <th>author</th>\n",
              "      <th>publisher</th>\n",
              "      <th>main topic</th>\n",
              "      <th>subtopics</th>\n",
              "      <th>product_details</th>\n",
              "    </tr>\n",
              "  </thead>\n",
              "  <tbody>\n",
              "    <tr>\n",
              "      <th>0</th>\n",
              "      <td>12</td>\n",
              "      <td>NaN</td>\n",
              "      <td>NaN</td>\n",
              "      <td>NaN</td>\n",
              "      <td>NaN</td>\n",
              "      <td>Breathtaking</td>\n",
              "      <td>Reva Ryann Thompson</td>\n",
              "      <td>Xlibris</td>\n",
              "      <td>FM</td>\n",
              "      <td></td>\n",
              "      <td>nanFM</td>\n",
              "    </tr>\n",
              "    <tr>\n",
              "      <th>1</th>\n",
              "      <td>45274</td>\n",
              "      <td>NaN</td>\n",
              "      <td>NaN</td>\n",
              "      <td>NaN</td>\n",
              "      <td>NaN</td>\n",
              "      <td>The Dead Man in Indian Creek</td>\n",
              "      <td>Mary Downing Hahn</td>\n",
              "      <td>AVON BOOKS</td>\n",
              "      <td>YFCF</td>\n",
              "      <td>YFZRYXHB</td>\n",
              "      <td>nanYFCFYFZRYXHB</td>\n",
              "    </tr>\n",
              "    <tr>\n",
              "      <th>2</th>\n",
              "      <td>10104</td>\n",
              "      <td>NaN</td>\n",
              "      <td>NaN</td>\n",
              "      <td>NaN</td>\n",
              "      <td>NaN</td>\n",
              "      <td>The Humble Seed</td>\n",
              "      <td>Linda Appleby</td>\n",
              "      <td>Linda Appleby</td>\n",
              "      <td>YFB</td>\n",
              "      <td>YX</td>\n",
              "      <td>nanYFBYX</td>\n",
              "    </tr>\n",
              "    <tr>\n",
              "      <th>3</th>\n",
              "      <td>41371</td>\n",
              "      <td>138327.0</td>\n",
              "      <td>1.0</td>\n",
              "      <td>0.0</td>\n",
              "      <td>0.0</td>\n",
              "      <td>Dryadenhain &amp; Dschinnenzauber (Märchenanthologie)</td>\n",
              "      <td>Philipp Busch, Jonathan Driedger, Lena Kalupne...</td>\n",
              "      <td>Ulisses Spiel &amp; Medien</td>\n",
              "      <td>FM</td>\n",
              "      <td>FMBWDHW</td>\n",
              "      <td>0.0FMFMBWDHW</td>\n",
              "    </tr>\n",
              "    <tr>\n",
              "      <th>4</th>\n",
              "      <td>41371</td>\n",
              "      <td>214045.0</td>\n",
              "      <td>1.0</td>\n",
              "      <td>1.0</td>\n",
              "      <td>0.0</td>\n",
              "      <td>Dryadenhain &amp; Dschinnenzauber (Märchenanthologie)</td>\n",
              "      <td>Philipp Busch, Jonathan Driedger, Lena Kalupne...</td>\n",
              "      <td>Ulisses Spiel &amp; Medien</td>\n",
              "      <td>FM</td>\n",
              "      <td>FMBWDHW</td>\n",
              "      <td>1.0FMFMBWDHW</td>\n",
              "    </tr>\n",
              "  </tbody>\n",
              "</table>\n",
              "</div>"
            ],
            "text/plain": [
              "   itemID  sessionID  click  ...  main topic  subtopics  product_details\n",
              "0      12        NaN    NaN  ...          FM                       nanFM\n",
              "1   45274        NaN    NaN  ...        YFCF   YFZRYXHB  nanYFCFYFZRYXHB\n",
              "2   10104        NaN    NaN  ...         YFB         YX         nanYFBYX\n",
              "3   41371   138327.0    1.0  ...          FM    FMBWDHW     0.0FMFMBWDHW\n",
              "4   41371   214045.0    1.0  ...          FM    FMBWDHW     1.0FMFMBWDHW\n",
              "\n",
              "[5 rows x 11 columns]"
            ]
          },
          "metadata": {
            "tags": []
          },
          "execution_count": 17
        }
      ]
    },
    {
      "cell_type": "code",
      "metadata": {
        "id": "5ObULcsjQ7FE",
        "colab": {
          "base_uri": "https://localhost:8080/",
          "height": 504
        },
        "outputId": "12ec5568-4503-4b2e-d271-0dba839fc8f0"
      },
      "source": [
        "df['product_details'] = df['product_details'].str.lower()\n",
        "df.head()"
      ],
      "execution_count": null,
      "outputs": [
        {
          "output_type": "execute_result",
          "data": {
            "text/html": [
              "<div>\n",
              "<style scoped>\n",
              "    .dataframe tbody tr th:only-of-type {\n",
              "        vertical-align: middle;\n",
              "    }\n",
              "\n",
              "    .dataframe tbody tr th {\n",
              "        vertical-align: top;\n",
              "    }\n",
              "\n",
              "    .dataframe thead th {\n",
              "        text-align: right;\n",
              "    }\n",
              "</style>\n",
              "<table border=\"1\" class=\"dataframe\">\n",
              "  <thead>\n",
              "    <tr style=\"text-align: right;\">\n",
              "      <th></th>\n",
              "      <th>itemID</th>\n",
              "      <th>sessionID</th>\n",
              "      <th>click</th>\n",
              "      <th>basket</th>\n",
              "      <th>order</th>\n",
              "      <th>title</th>\n",
              "      <th>author</th>\n",
              "      <th>publisher</th>\n",
              "      <th>main topic</th>\n",
              "      <th>subtopics</th>\n",
              "      <th>product_details</th>\n",
              "    </tr>\n",
              "  </thead>\n",
              "  <tbody>\n",
              "    <tr>\n",
              "      <th>0</th>\n",
              "      <td>12</td>\n",
              "      <td>NaN</td>\n",
              "      <td>NaN</td>\n",
              "      <td>NaN</td>\n",
              "      <td>NaN</td>\n",
              "      <td>Breathtaking</td>\n",
              "      <td>Reva Ryann Thompson</td>\n",
              "      <td>Xlibris</td>\n",
              "      <td>FM</td>\n",
              "      <td></td>\n",
              "      <td>nanfm</td>\n",
              "    </tr>\n",
              "    <tr>\n",
              "      <th>1</th>\n",
              "      <td>45274</td>\n",
              "      <td>NaN</td>\n",
              "      <td>NaN</td>\n",
              "      <td>NaN</td>\n",
              "      <td>NaN</td>\n",
              "      <td>The Dead Man in Indian Creek</td>\n",
              "      <td>Mary Downing Hahn</td>\n",
              "      <td>AVON BOOKS</td>\n",
              "      <td>YFCF</td>\n",
              "      <td>YFZRYXHB</td>\n",
              "      <td>nanyfcfyfzryxhb</td>\n",
              "    </tr>\n",
              "    <tr>\n",
              "      <th>2</th>\n",
              "      <td>10104</td>\n",
              "      <td>NaN</td>\n",
              "      <td>NaN</td>\n",
              "      <td>NaN</td>\n",
              "      <td>NaN</td>\n",
              "      <td>The Humble Seed</td>\n",
              "      <td>Linda Appleby</td>\n",
              "      <td>Linda Appleby</td>\n",
              "      <td>YFB</td>\n",
              "      <td>YX</td>\n",
              "      <td>nanyfbyx</td>\n",
              "    </tr>\n",
              "    <tr>\n",
              "      <th>3</th>\n",
              "      <td>41371</td>\n",
              "      <td>138327.0</td>\n",
              "      <td>1.0</td>\n",
              "      <td>0.0</td>\n",
              "      <td>0.0</td>\n",
              "      <td>Dryadenhain &amp; Dschinnenzauber (Märchenanthologie)</td>\n",
              "      <td>Philipp Busch, Jonathan Driedger, Lena Kalupne...</td>\n",
              "      <td>Ulisses Spiel &amp; Medien</td>\n",
              "      <td>FM</td>\n",
              "      <td>FMBWDHW</td>\n",
              "      <td>0.0fmfmbwdhw</td>\n",
              "    </tr>\n",
              "    <tr>\n",
              "      <th>4</th>\n",
              "      <td>41371</td>\n",
              "      <td>214045.0</td>\n",
              "      <td>1.0</td>\n",
              "      <td>1.0</td>\n",
              "      <td>0.0</td>\n",
              "      <td>Dryadenhain &amp; Dschinnenzauber (Märchenanthologie)</td>\n",
              "      <td>Philipp Busch, Jonathan Driedger, Lena Kalupne...</td>\n",
              "      <td>Ulisses Spiel &amp; Medien</td>\n",
              "      <td>FM</td>\n",
              "      <td>FMBWDHW</td>\n",
              "      <td>1.0fmfmbwdhw</td>\n",
              "    </tr>\n",
              "  </tbody>\n",
              "</table>\n",
              "</div>"
            ],
            "text/plain": [
              "   itemID  sessionID  click  ...  main topic  subtopics  product_details\n",
              "0      12        NaN    NaN  ...          FM                       nanfm\n",
              "1   45274        NaN    NaN  ...        YFCF   YFZRYXHB  nanyfcfyfzryxhb\n",
              "2   10104        NaN    NaN  ...         YFB         YX         nanyfbyx\n",
              "3   41371   138327.0    1.0  ...          FM    FMBWDHW     0.0fmfmbwdhw\n",
              "4   41371   214045.0    1.0  ...          FM    FMBWDHW     1.0fmfmbwdhw\n",
              "\n",
              "[5 rows x 11 columns]"
            ]
          },
          "metadata": {
            "tags": []
          },
          "execution_count": 18
        }
      ]
    },
    {
      "cell_type": "code",
      "metadata": {
        "id": "b7lpdG7eRHBV",
        "colab": {
          "base_uri": "https://localhost:8080/"
        },
        "outputId": "f8aa85d3-4dde-4c58-ed1b-3293266abacf"
      },
      "source": [
        "df.shape"
      ],
      "execution_count": null,
      "outputs": [
        {
          "output_type": "execute_result",
          "data": {
            "text/plain": [
              "(25607, 11)"
            ]
          },
          "metadata": {
            "tags": []
          },
          "execution_count": 19
        }
      ]
    },
    {
      "cell_type": "markdown",
      "metadata": {
        "id": "fQKk2EDYRP6S"
      },
      "source": []
    },
    {
      "cell_type": "code",
      "metadata": {
        "id": "j7GsTpKQRVGT"
      },
      "source": [
        "\n",
        "# so we are going to make a vector of words to make word to word n_gram and calculate cosine similarities\n",
        "from sklearn.feature_extraction.text import TfidfVectorizer\n",
        "from sklearn.metrics.pairwise import linear_kernel"
      ],
      "execution_count": null,
      "outputs": []
    },
    {
      "cell_type": "markdown",
      "metadata": {
        "id": "NWsg37jKZdtZ"
      },
      "source": [
        "https://heartbeat.fritz.ai/recommender-systems-with-python-part-i-content-based-filtering-5df4940bd831"
      ]
    },
    {
      "cell_type": "code",
      "metadata": {
        "id": "emk2x_lqZ6A9"
      },
      "source": [
        "tfv = TfidfVectorizer(min_df=3,  max_features=None, \n",
        "            strip_accents='unicode', analyzer='word',token_pattern=r'\\w{1,}',\n",
        "            ngram_range=(1, 3),\n",
        "            stop_words = 'english')\n",
        "\n",
        "# Filling NaNs with empty string\n",
        "df['product_details'] = df['product_details'].fillna('')"
      ],
      "execution_count": null,
      "outputs": []
    },
    {
      "cell_type": "code",
      "metadata": {
        "id": "fjws2YorTdKd",
        "colab": {
          "base_uri": "https://localhost:8080/"
        },
        "outputId": "e346f05f-0861-49d4-abf6-45faa302299a"
      },
      "source": [
        "tfv_matrix = tfv.fit_transform(df['product_details'])\n",
        "tfv_matrix"
      ],
      "execution_count": null,
      "outputs": [
        {
          "output_type": "execute_result",
          "data": {
            "text/plain": [
              "<25607x844 sparse matrix of type '<class 'numpy.float64'>'\n",
              "\twith 88711 stored elements in Compressed Sparse Row format>"
            ]
          },
          "metadata": {
            "tags": []
          },
          "execution_count": 22
        }
      ]
    },
    {
      "cell_type": "code",
      "metadata": {
        "id": "C22OhVQ7TkB9",
        "colab": {
          "base_uri": "https://localhost:8080/"
        },
        "outputId": "9061d605-c15f-4142-9a83-e2d272442a62"
      },
      "source": [
        "tfv_matrix.shape"
      ],
      "execution_count": null,
      "outputs": [
        {
          "output_type": "execute_result",
          "data": {
            "text/plain": [
              "(25607, 844)"
            ]
          },
          "metadata": {
            "tags": []
          },
          "execution_count": 23
        }
      ]
    },
    {
      "cell_type": "code",
      "metadata": {
        "id": "2iApYqAvT9yM"
      },
      "source": [
        "from sklearn.metrics.pairwise import sigmoid_kernel\n",
        "\n",
        "# Compute the sigmoid kernel\n",
        "sig = linear_kernel(tfv_matrix, tfv_matrix)"
      ],
      "execution_count": null,
      "outputs": []
    },
    {
      "cell_type": "code",
      "metadata": {
        "id": "E4dCmjOTu7bL"
      },
      "source": [
        "results = {}\n",
        "for idx, row in df.iterrows():\n",
        "\n",
        "   similar_indices = sig[idx].argsort()[:-100:-1] \n",
        "   similar_items = [(sig[idx][i], df['itemID'][i]) for i in similar_indices] \n",
        "   results[row['itemID']] = similar_items[1:]\n",
        "  \n",
        "\n",
        "   "
      ],
      "execution_count": null,
      "outputs": []
    },
    {
      "cell_type": "code",
      "metadata": {
        "id": "vVve5Gf_5JFH"
      },
      "source": [
        "def item1(itemID):  \n",
        "  return df.loc[df['itemID'] == itemID]['itemID'].astype(str).tolist()[0].split(' - ')[0] \n",
        "# Just reads the results out of the dictionary.def \n"
      ],
      "execution_count": null,
      "outputs": []
    },
    {
      "cell_type": "code",
      "metadata": {
        "id": "J9DraxRnz3jY"
      },
      "source": [
        "evalList = eval['itemID'].tolist()"
      ],
      "execution_count": null,
      "outputs": []
    },
    {
      "cell_type": "code",
      "metadata": {
        "id": "8XwA-Gdg-Rap"
      },
      "source": [
        "def myFun(evaluation_list):\n",
        "  finalList = []\n",
        "  for i in evaluation_list:\n",
        "    try:\n",
        "      item_id1 = i\n",
        "      num = 10\n",
        "\n",
        "      recs = results[item_id1][:num]   \n",
        "      recomList = []\n",
        "      recomList.append(item_id1)\n",
        "      for rec in recs: \n",
        "        #print(\"Recommended: \" + item1(rec[1]) + \" (score:\" +      str(rec[0]) + \")\")\n",
        "        recomList.append(item1(rec[1]))\n",
        "      finalList.append(recomList)\n",
        "    except:\n",
        "      pass  \n",
        "\n",
        "  evalDf = pd.DataFrame(columns=['itemID', 'rec1', 'rec2','rec3','rec4','rec5','rec6','rec7','rec8','rec9','rec10'], data= finalList)\n",
        "  evalDf.to_csv('evaluationCalc.csv')"
      ],
      "execution_count": null,
      "outputs": []
    },
    {
      "cell_type": "code",
      "metadata": {
        "id": "2Xj9wd1YqZ5F"
      },
      "source": [
        "myFun(evalList)\n"
      ],
      "execution_count": null,
      "outputs": []
    },
    {
      "cell_type": "markdown",
      "metadata": {
        "id": "T-LSR0nK4lWC"
      },
      "source": [
        "# New Section"
      ]
    }
  ]
}